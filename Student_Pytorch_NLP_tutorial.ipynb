{
 "cells": [
  {
   "cell_type": "code",
   "execution_count": 14,
   "id": "2d36232f",
   "metadata": {},
   "outputs": [],
   "source": [
    "import numpy as np\n",
    "import matplotlib.pyplot as plt\n",
    "import os,sys\n",
    "import imageio\n",
    "import random\n",
    "from tqdm import tqdm\n",
    "from sklearn.metrics import roc_auc_score\n",
    "from sklearn.manifold import TSNE\n",
    "\n",
    "import torch\n",
    "import torch.nn as nn\n",
    "import torch.nn.functional as F\n",
    "import torch.optim as optim\n",
    "import torchtext\n",
    "\n",
    "\n",
    "SEED = 1\n",
    "torch.manual_seed(SEED)\n",
    "torch.backends.cudnn.deterministic = True"
   ]
  },
  {
   "cell_type": "code",
   "execution_count": 1,
   "id": "512133f3",
   "metadata": {},
   "outputs": [],
   "source": [
    "# Prior to the tutorial, run this cell (to download the dataset we'll use)\n",
    "TEXT = torchtext.data.Field(tokenizer_language = 'basic_english')\n",
    "LABEL = torchtext.data.LabelField(dtype = torch.float)\n",
    "train_data, test_data = torchtext.datasets.IMDB.splits(TEXT, LABEL) # load IMDB dataset\n",
    "\n",
    "TEXT.build_vocab(train_data, vectors='glove.6B.50d')\n",
    "LABEL.build_vocab(train_data)"
   ]
  },
  {
   "cell_type": "markdown",
   "id": "0648f056",
   "metadata": {},
   "source": [
    "# Computing Word Embeddings"
   ]
  },
  {
   "cell_type": "code",
   "execution_count": 1,
   "id": "6de2a708",
   "metadata": {},
   "outputs": [],
   "source": [
    "CONTEXT_SIZE = 2 # Number of context words used to predict the next word\n",
    "EMBEDDING_DIM = 10\n",
    "\n",
    "# We will use Shakespeare Sonnet 2\n",
    "test_sentence = \"\"\"When forty winters shall besiege thy brow,\n",
    "And dig deep trenches in thy beauty's field,\n",
    "Thy youth's proud livery so gazed on now,\n",
    "Will be a totter'd weed of small worth held:\n",
    "Then being asked, where all thy beauty lies,\n",
    "Where all the treasure of thy lusty days;\n",
    "To say, within thine own deep sunken eyes,\n",
    "Were an all-eating shame, and thriftless praise.\n",
    "How much more praise deserv'd thy beauty's use,\n",
    "If thou couldst answer 'This fair child of mine\n",
    "Shall sum my count, and make my old excuse,'\n",
    "Proving his beauty by succession thine!\n",
    "This were to be new made when thou art old,\n",
    "And see thy blood warm when thou feel'st it cold.\"\"\".split()\n",
    "\n",
    "# build a list of tuples.  Each tuple is ([ word_i-2, word_i-1 ], target word)\n",
    "\n",
    "trigrams = \n",
    "\n",
    "# print the first 3, just so you can see what they look like\n",
    "print(trigrams[:3])\n",
    "\n",
    "vocab = # Vocabulary\n",
    "word_to_ix = # word to index dictionary\n",
    "\n",
    "class NGramLanguageModeler(nn.Module):\n",
    "    # GOAL: Predict the next word from the previous 2 words\n",
    "\n",
    "    def __init__(self, vocab_size, embedding_dim, context_size):\n",
    "        super(NGramLanguageModeler, self).__init__()\n",
    "        self.embeddings =  # word embeddings\n",
    "        self.linear1 =  # map 2 context embeddings to a hidden layer of dimension 128\n",
    "        self.linear2 =  # map from 128-dim hidden layer to a probability distribution over all the vocabulary\n",
    "\n",
    "    def forward(self, inputs):\n",
    "        embeds =  # inputs are indices, so need to get corresponding embeddings first\n",
    "        out =  # map to hidden layer\n",
    "        out =  # get output\n",
    "        log_probs =  # log probabilities\n",
    "        return log_probs\n",
    "\n",
    "\n",
    "losses = []\n",
    "loss_function = # cross-entropy loss for word classification\n",
    "model =  # initialize the model\n",
    "optimizer = # use SGD as the optimizer - we are learning the embeddings and the linear1 & linear2 layers\n",
    "\n",
    "# training loop\n",
    "for epoch in range(50):\n",
    "    total_loss = 0\n",
    "    for context, target in trigrams:\n",
    "\n",
    "        # Step 1. Prepare the inputs to be passed to the model (i.e, turn the words\n",
    "        # into integer indices and wrap them in tensors)\n",
    "        context_idxs =  # get 2 context words indices\n",
    "\n",
    "        # Step 2. Recall that torch *accumulates* gradients. Before passing in a\n",
    "        # new instance, you need to zero out the gradients from the old\n",
    "        # instance\n",
    "        \n",
    "\n",
    "        # Step 3. Run the forward pass, getting log probabilities over next\n",
    "        # words\n",
    "        log_probs = \n",
    "\n",
    "        # Step 4. Compute your loss function. (Again, Torch wants the target\n",
    "        # word wrapped in a tensor)\n",
    "        loss = \n",
    "\n",
    "        # Step 5. Do the backward pass and update the gradient\n",
    "        loss.backward()\n",
    "        optimizer.step()\n",
    "\n",
    "        # Get the Python number from a 1-element Tensor by calling tensor.item()\n",
    "        total_loss += loss.item()\n",
    "    losses.append(total_loss)\n",
    "print(losses)  # The loss decreased every iteration over the training data!"
   ]
  },
  {
   "cell_type": "code",
   "execution_count": null,
   "id": "3ce96430",
   "metadata": {},
   "outputs": [],
   "source": [
    "# To get the embedding of a particular word, e.g. \"beauty\"\n",
    "print(model.embeddings.weight[word_to_ix[\"beauty\"]])"
   ]
  },
  {
   "cell_type": "code",
   "execution_count": 20,
   "id": "c2f23c8f",
   "metadata": {},
   "outputs": [],
   "source": [
    "# TSNE visualization of embeddings\n",
    "embs = torch.stack([model.embeddings.weight[word_to_ix[word]] for word in vocab]).detach().numpy()\n",
    "labels = [word for word in vocab] #\n",
    "\n",
    "embs_2d = TSNE(n_components=2).fit_transform(embs)\n",
    "\n",
    "fig, ax = plt.subplots(figsize=(8,8))\n",
    "ax.scatter(embs_2d[:,0], embs_2d[:,1])\n",
    "\n",
    "for i, txt in enumerate(labels):\n",
    "    ax.annotate(txt, (embs_2d[i,0], embs_2d[i,1]))"
   ]
  },
  {
   "cell_type": "markdown",
   "id": "5fd0bd98",
   "metadata": {},
   "source": [
    "# Sentiment Classification on the IMDB dataset"
   ]
  },
  {
   "cell_type": "code",
   "execution_count": 22,
   "id": "971a6622",
   "metadata": {},
   "outputs": [],
   "source": [
    "TEXT = torchtext.data.Field(tokenizer_language = 'basic_english')\n",
    "LABEL = torchtext.data.LabelField(dtype = torch.float)\n",
    "train_data, test_data = torchtext.datasets.IMDB.splits(TEXT, LABEL) # load IMDB dataset"
   ]
  },
  {
   "cell_type": "code",
   "execution_count": 2,
   "id": "cf8ed618",
   "metadata": {},
   "outputs": [],
   "source": [
    "print(f'Number of training examples: {len(train_data)}')\n",
    "print(f'Number of testing examples: {len(test_data)}')"
   ]
  },
  {
   "cell_type": "code",
   "execution_count": 25,
   "id": "f6191e00",
   "metadata": {},
   "outputs": [
    {
     "name": "stdout",
     "output_type": "stream",
     "text": [
      "{'text': ['We', 'do', 'not', 'come', 'across', 'movies', 'on', 'brother-sister', 'relationship', 'in', 'Indian', 'cinema,', 'or', 'any', 'other', 'language', 'or', 'medium.', 'This', 'relationship', 'has', 'several', 'aspects', 'which', 'have', 'not', 'been', 'exploited', 'in', 'movies', 'or', 'novels.', 'Typically,', 'a', 'sister', 'is', 'depicted', 'as', 'a', 'pile-on', 'who', 'can', 'be', 'used', 'for', 'ransom', 'in', 'the', 'climax.', 'This', 'movie', 'treats', 'the', 'subject', 'in', 'an', 'entirely', 'different', 'light.<br', '/><br', '/>It', 'is', 'inspired', 'by', 'George', \"Eliot's\", 'novel', '\"The', 'Mill', 'on', 'the', 'Floss\".', 'The', 'brother', 'is', 'very', 'prosaic,', 'all-good,', 'the', 'blue-eyed', 'boy', 'who', 'is', 'a', 'conventionally', 'good', 'son', 'and', 'a', 'favorite', 'with', 'his', 'mother.', 'The', 'sister', 'is', 'romantic,', 'wild', 'and', 'defiant', 'of', 'the', 'unwritten', 'rules', 'of', 'the', 'society.', 'In', 'spite', 'of', 'this,', 'the', 'love', 'of', 'the', 'brother-sister', 'is', 'the', 'winner.<br', '/><br', '/>This', 'movie', 'is', 'about', 'the', 'love', 'of', 'the', 'two', 'siblings', 'who', 'are', 'separated', 'in', 'childhood', 'and', 'revival', 'of', 'the', 'same', 'feeling', 'when', 'they', 'meet', 'years', 'later.', 'It', 'is', 'also', 'the', 'quest', 'of', 'the', 'subdued', 'brother', 'to', 'reunite', 'with', 'his', 'sister', 'who', 'has', 'chosen', 'to', 'be', 'wild', 'to', 'defy', 'the', 'world.<br', '/><br', '/>Although', 'the', 'movie', 'and', 'the', 'novel', 'are', 'set', 'about', '3', 'centuries', 'apart', 'in', 'two', 'distant', 'countries,', 'yet', 'the', 'sentiments', 'are', 'the', 'same', 'and', 'still', 'hold', 'true.'], 'label': 'pos'}\n"
     ]
    }
   ],
   "source": [
    "print(vars(train_data.examples[0]))"
   ]
  },
  {
   "cell_type": "code",
   "execution_count": 28,
   "id": "0eb8b485",
   "metadata": {},
   "outputs": [],
   "source": [
    "TEXT.build_vocab(train_data, vectors='glove.6B.50d')\n",
    "LABEL.build_vocab(train_data)"
   ]
  },
  {
   "cell_type": "code",
   "execution_count": 29,
   "id": "37e448b3",
   "metadata": {},
   "outputs": [
    {
     "name": "stdout",
     "output_type": "stream",
     "text": [
      "Unique tokens in TEXT vocabulary: 224776\n",
      "Unique tokens in LABEL vocabulary: 2\n"
     ]
    }
   ],
   "source": [
    "print(f\"Unique tokens in TEXT vocabulary: {len(TEXT.vocab)}\")\n",
    "print(f\"Unique tokens in LABEL vocabulary: {len(LABEL.vocab)}\")"
   ]
  },
  {
   "cell_type": "code",
   "execution_count": 30,
   "id": "7463789a",
   "metadata": {},
   "outputs": [
    {
     "name": "stdout",
     "output_type": "stream",
     "text": [
      "[('the', 201300), ('a', 109208), ('and', 107232), ('of', 100305), ('to', 92934), ('is', 72631), ('in', 59955), ('I', 46058), ('that', 45393), ('this', 40088), ('it', 37880), ('/><br', 35840), ('was', 32602), ('as', 30054), ('with', 29360), ('for', 28760), ('but', 23528), ('The', 23463), ('on', 21516), ('movie', 21316)]\n"
     ]
    }
   ],
   "source": [
    "print(TEXT.vocab.freqs.most_common(20))"
   ]
  },
  {
   "cell_type": "code",
   "execution_count": 31,
   "id": "8c97ab6d",
   "metadata": {},
   "outputs": [],
   "source": [
    "def get_batch_sentence_embeddings(batch):\n",
    "    # write a function that, given a batch of text, computes a sentence embedding by averaging word embeddings\n",
    "    sentence_embeddings = []\n",
    "    for text in batch.text.transpose(1,0):\n",
    "        filtered_text = text[(text!=0)&(text!=1)] # removes <unk> and <pad> tokens\n",
    "        sentence_emb = # take the mean of the word embeddings for each sentence\n",
    "        sentence_embeddings.append(sentence_emb)\n",
    "    \n",
    "    return # convert from list of tensors to tensor and return\n",
    "\n",
    "class LogisticRegression(torch.nn.Module):\n",
    "    def __init__(self, input_dim):\n",
    "        super(LogisticRegression, self).__init__()\n",
    "        self.linear = # linear layer\n",
    "\n",
    "    def forward(self, x):\n",
    "        outputs = # linear layer\n",
    "        return outputs"
   ]
  },
  {
   "cell_type": "code",
   "execution_count": 32,
   "id": "ef85f779",
   "metadata": {},
   "outputs": [],
   "source": [
    "# dataloader\n",
    "BATCH_SIZE = 64\n",
    "\n",
    "device = torch.device('cuda' if torch.cuda.is_available() else 'cpu')\n",
    "\n",
    "train_iterator, test_iterator = torchtext.data.BucketIterator.splits(\n",
    "    (train_data, test_data), \n",
    "    batch_size = BATCH_SIZE,\n",
    "    device = device)\n",
    "\n",
    "# model + loss + optimizer\n",
    "model = # create the model\n",
    "criterion = torch.nn.BCEWithLogitsLoss() # cross-entropy loss for 0-1 sentiment classification\n",
    "optimizer = torch.optim.SGD(model.parameters(), lr=1e-2) # again, use SGD as the optimizer"
   ]
  },
  {
   "cell_type": "code",
   "execution_count": null,
   "id": "fffb521d",
   "metadata": {},
   "outputs": [],
   "source": [
    "epochs = 30\n",
    "\n",
    "losses = []\n",
    "for epoch in range(int(epochs)):\n",
    "    for i,batch in tqdm(enumerate(train_iterator)):\n",
    "        \n",
    "        sentence_embeddings = # compute sentence embeddings for the batch\n",
    "        optimizer.zero_grad() # zero the gradients\n",
    "        outputs =  # make a sentiment prediction\n",
    "        loss =  # compute loss\n",
    "        # compute gradients\n",
    "        # update model parameters\n",
    "        \n",
    "    losses.append(loss.item())\n",
    "\n",
    "print(losses)"
   ]
  },
  {
   "cell_type": "code",
   "execution_count": 36,
   "id": "57aaa82f",
   "metadata": {},
   "outputs": [],
   "source": [
    "def compute_metrics(iterator,model):\n",
    "    # compute AUC\n",
    "    model.eval()\n",
    "    all_preds = []\n",
    "    all_labels = []\n",
    "    for batch in iterator:\n",
    "        sentence_embeddings = get_batch_sentence_embeddings(batch)\n",
    "        with torch.no_grad():\n",
    "            all_preds.extend(list(model(sentence_embeddings).detach().numpy()))\n",
    "        all_labels.extend(list(batch.label.detach().numpy()))\n",
    "    \n",
    "    return {'auc': roc_auc_score(all_labels,all_preds)}"
   ]
  },
  {
   "cell_type": "code",
   "execution_count": 37,
   "id": "79f1327e",
   "metadata": {},
   "outputs": [
    {
     "data": {
      "text/plain": [
       "{'auc': 0.7285463104000001}"
      ]
     },
     "execution_count": 37,
     "metadata": {},
     "output_type": "execute_result"
    }
   ],
   "source": [
    "compute_metrics(test_iterator,model)"
   ]
  },
  {
   "cell_type": "markdown",
   "id": "0939dd6d",
   "metadata": {},
   "source": [
    "## References"
   ]
  },
  {
   "cell_type": "markdown",
   "id": "e1d2ebcd",
   "metadata": {},
   "source": [
    "Guthrie, Robert. “Word Embeddings: Encoding Lexical Semantics¶.” Word Embeddings: Encoding Lexical Semantics - PyTorch Tutorials 1.8.1+cu102 Documentation, pytorch.org/tutorials/beginner/nlp/word_embeddings_tutorial.html#sphx-glr-beginner-nlp-word-embeddings-tutorial-py.\n",
    "\n",
    "Trevett, Ben. “Bentrevett/Pytorch-Sentiment-Analysis.” GitHub, github.com/bentrevett/pytorch-sentiment-analysis. "
   ]
  }
 ],
 "metadata": {
  "kernelspec": {
   "display_name": "Python 3",
   "language": "python",
   "name": "python3"
  },
  "language_info": {
   "codemirror_mode": {
    "name": "ipython",
    "version": 3
   },
   "file_extension": ".py",
   "mimetype": "text/x-python",
   "name": "python",
   "nbconvert_exporter": "python",
   "pygments_lexer": "ipython3",
   "version": "3.7.10"
  }
 },
 "nbformat": 4,
 "nbformat_minor": 5
}
